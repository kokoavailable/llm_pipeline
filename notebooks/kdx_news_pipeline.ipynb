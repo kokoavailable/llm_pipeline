{
 "cells": [
  {
   "cell_type": "markdown",
   "metadata": {},
   "source": [
    "# KDX 뉴스 데이터 수집\n",
    "\n",
    "이 노트북은 KDX(한국데이터거래소) 관련 뉴스 데이터를 수집하는 프로세스를 담고 있습니다.\n",
    "\n",
    "## 목표\n",
    "- KDX 관련 뉴스 기사를 자동으로 수집\n",
    "- Nate, MBN 등 다양한 소스에서 데이터 수집\n",
    "- 수집한 데이터를 구조화된 형태로 저장"
   ]
  },
  {
   "cell_type": "code",
   "execution_count": null,
   "metadata": {},
   "outputs": [],
   "source": [
    "# 필요한 라이브러리 임포트\n",
    "import os\n",
    "import sys\n",
    "import pandas as pd\n",
    "import numpy as np\n",
    "import matplotlib.pyplot as plt\n",
    "import time\n",
    "from datetime import datetime, timedelta\n",
    "import json\n",
    "from dotenv import load_dotenv\n",
    "from IPython.core.interactiveshell import InteractiveShell\n",
    "InteractiveShell.ast_node_interactivity = \"all\"\n",
    "\n",
    "import sys\n",
    "sys.setrecursionlimit(100000)  # 너무 깊은 구조 대비\n",
    "\n",
    "os.environ[\"APP_ENV\"] = \"DEV\"\n",
    "\n",
    "app_env = os.getenv(\"APP_ENV\", \"DEV\")\n",
    "\n",
    "load_dotenv(f\".env.{app_env}\")\n",
    "\n",
    "\n",
    "# 프로젝트 루트 경로 추가 (상대 경로 임포트를 위한 설정)\n",
    "project_root = os.path.abspath(os.path.join(os.getcwd(), '..'))\n",
    "if project_root not in sys.path:\n",
    "    sys.path.append(project_root)\n",
    "\n",
    "# 모듈화된 코드 임포트\n",
    "from src.data.crawler import NewsCrawler\n",
    "from src.utils.helpers import ensure_directory"
   ]
  },
  {
   "cell_type": "markdown",
   "metadata": {},
   "source": [
    "## 1. 출력 디렉토리 설정"
   ]
  },
  {
   "cell_type": "code",
   "execution_count": null,
   "metadata": {},
   "outputs": [],
   "source": [
    "# 로우 데이터 저장 경로 설정\n",
    "RAW_DATA_DIR = os.path.join(project_root, 'data', 'raw')\n",
    "RAW_DATA_PATH = os.path.join(RAW_DATA_DIR, 'news_articles.csv')\n",
    "ensure_directory(RAW_DATA_DIR)\n",
    "\n",
    "# 전처리 데이터 저장 경로 설정\n",
    "PROCESSED_DATA_DIR = os.path.join(project_root, 'data', 'processed')\n",
    "PROCESSED_DATA_PATH = os.path.join(RAW_DATA_DIR, 'processed_news_articles.csv')\n",
    "ensure_directory(PROCESSED_DATA_DIR)\n",
    "\n",
    "# 서머리 데이터 저장 경로 설정\n",
    "SUMMARY_DATA_DIR = os.path.join(project_root, 'data', 'summaries')\n",
    "SUMMARY_DATA_PATH = os.path.join(SUMMARY_DATA_DIR, 'news_summaries1.csv')\n",
    "ensure_directory(SUMMARY_DATA_DIR)\n",
    "\n",
    "# 비주얼라이제이션 데이터 저장 경로 설정\n",
    "VIZ_DATA_DIR = os.path.join(project_root, 'data', 'visualizations')\n",
    "ensure_directory(VIZ_DATA_DIR)\n",
    "\n",
    "print(f\"로우 데이터 저장공간 {RAW_DATA_DIR}\")\n",
    "print(f\"전처리 데이터 저장공간 {PROCESSED_DATA_DIR}\")\n",
    "print(f\"서머리 데이터 저장공간 {SUMMARY_DATA_DIR}\")\n",
    "print(f\"비주얼라이제이션 데이터 저장공간 {VIZ_DATA_DIR}\")"
   ]
  },
  {
   "cell_type": "markdown",
   "metadata": {},
   "source": [
    "## 2. 크롤러 설정"
   ]
  },
  {
   "cell_type": "code",
   "execution_count": null,
   "metadata": {},
   "outputs": [],
   "source": [
    "# 크롤러 설정 정의\n",
    "# crawler_config = {\n",
    "#     'search_keywords': ['KDX', '한국데이터거래소', '데이터거래소', 'AI데이터'],\n",
    "#     'news_sources': ['mk'],\n",
    "#     'max_articles_per_source': 15,\n",
    "#     'date_range_days': 30\n",
    "# }\n",
    "\n",
    "# # 설정 내용 확인\n",
    "# print(\"크롤러 설정:\")\n",
    "# for key, value in crawler_config.items():\n",
    "#     print(f\"  - {key}: {value}\")"
   ]
  },
  {
   "cell_type": "markdown",
   "metadata": {},
   "source": [
    "## 3. 뉴스 기사 수집 실행"
   ]
  },
  {
   "cell_type": "code",
   "execution_count": null,
   "metadata": {},
   "outputs": [],
   "source": [
    "# 크롤러 초기화\n",
    "crawler = NewsCrawler()\n",
    "\n",
    "# 크롤러에 설정 적용 (설정 파일무시)\n",
    "# crawler.config = crawler_config\n",
    "\n",
    "# 크롤링 실행\n",
    "print(\"크롤링 시작...\")\n",
    "start_time = time.time()\n",
    "\n",
    "articles_df = crawler.run(RAW_DATA_PATH)\n",
    "\n",
    "end_time = time.time()\n",
    "execution_time = end_time - start_time\n",
    "\n",
    "print(f\"크롤링 완료! 소요 시간: {execution_time:.2f}초\")\n",
    "print(f\"수집된 기사 수: {len(articles_df)}\")"
   ]
  },
  {
   "cell_type": "markdown",
   "metadata": {},
   "source": [
    "## 4. 수집 결과 확인"
   ]
  },
  {
   "cell_type": "code",
   "execution_count": null,
   "metadata": {},
   "outputs": [],
   "source": [
    "# 데이터프레임 미리보기\n",
    "articles_df.head()\n",
    "\n",
    "# 소스별 기사 수 확인\n",
    "source_counts = articles_df['source'].value_counts()\n",
    "print(\"소스별 기사 수:\")\n",
    "print(source_counts)\n",
    "\n",
    "# 기사 내용 샘플 확인\n",
    "sample_article = articles_df.iloc[0]\n",
    "print(f\"제목: {sample_article['title']}\")\n",
    "print(f\"날짜: {sample_article['date']}\")\n",
    "print(f\"소스: {sample_article['source']}\")\n",
    "print(f\"URL: {sample_article['url']}\")\n",
    "print(\"\\n내용:\")\n",
    "print(sample_article['content'][:500] + '...' if len(sample_article['content']) > 500 else sample_article['content'])"
   ]
  },
  {
   "cell_type": "markdown",
   "metadata": {},
   "source": [
    "## 5. 데이터 전처리 실행"
   ]
  },
  {
   "cell_type": "code",
   "execution_count": null,
   "metadata": {},
   "outputs": [],
   "source": [
    "# 데이터 전처리 모듈 임포트\n",
    "from src.data.preprocessor import NewsPreprocessor\n",
    "\n",
    "# 전처리기 초기화 및 실행\n",
    "print(\"데이터 전처리 시작...\")\n",
    "start_time = time.time()\n",
    "\n",
    "preprocessor = NewsPreprocessor()\n",
    "processed_df = preprocessor.run(RAW_DATA_PATH, PROCESSED_DATA_PATH)\n",
    "\n",
    "end_time = time.time()\n",
    "execution_time = end_time - start_time\n",
    "\n",
    "print(f\"전처리 완료! 소요 시간: {execution_time:.2f}초\")\n",
    "print(f\"전처리된 기사 수: {len(processed_df)}\")\n",
    "\n",
    "# 전처리 결과 미리보기\n",
    "processed_df.head()"
   ]
  },
  {
   "cell_type": "markdown",
   "metadata": {},
   "source": [
    "## 6. 요약 생성"
   ]
  },
  {
   "cell_type": "code",
   "execution_count": null,
   "metadata": {},
   "outputs": [],
   "source": [
    "# 요약 모듈 임포트\n",
    "from src.models.summarizer import GPTSummarizer\n",
    "\n",
    "# 요약 생성기 초기화 및 실행\n",
    "print(\"뉴스 요약 생성 시작...\")\n",
    "start_time = time.time()\n",
    "\n",
    "summarizer = GPTSummarizer()\n",
    "summary_df = summarizer.run(PROCESSED_DATA_PATH, SUMMARY_DATA_PATH)\n",
    "\n",
    "\n",
    "end_time = time.time()\n",
    "execution_time = end_time - start_time\n",
    "\n",
    "print(f\"요약 생성 완료! 소요 시간: {execution_time:.2f}초\")\n",
    "print(f\"요약된 기사 수: {len(summary_df)}\")\n",
    "\n",
    "# 요약 결과 미리보기\n",
    "summary_df[['title', 'summary']].head()"
   ]
  },
  {
   "cell_type": "markdown",
   "metadata": {},
   "source": [
    "## 7. 시각화 생성"
   ]
  },
  {
   "cell_type": "code",
   "execution_count": null,
   "metadata": {},
   "outputs": [],
   "source": [
    "# 시각화 모듈 임포트\n",
    "from src.visualization.plotter import NewsVisualizer\n",
    "\n",
    "# 시각화 생성기 초기화 및 실행\n",
    "print(\"시각화 생성 시작...\")\n",
    "start_time = time.time()\n",
    "\n",
    "visualizer = NewsVisualizer()\n",
    "viz_results = visualizer.run(SUMMARY_DATA_PATH, VIZ_DATA_DIR)\n",
    "\n",
    "end_time = time.time()\n",
    "execution_time = end_time - start_time\n",
    "\n",
    "print(f\"시각화 생성 완료! 소요 시간: {execution_time:.2f}초\")\n",
    "print(f\"생성된 시각화 파일: {viz_results}\")"
   ]
  },
  {
   "cell_type": "markdown",
   "metadata": {},
   "source": [
    "## 8. 주요 시각화 결과 확인"
   ]
  },
  {
   "cell_type": "code",
   "execution_count": null,
   "metadata": {},
   "outputs": [],
   "source": [
    "# 워드 클라우드 표시\n",
    "wordcloud_path = os.path.join(VIZ_DATA_DIR, 'keywords_wordcloud.png')\n",
    "if os.path.exists(wordcloud_path):\n",
    "    from IPython.display import Image\n",
    "    display(Image(filename=wordcloud_path))\n",
    "else:\n",
    "    print(\"워드 클라우드 이미지를 찾을 수 없습니다.\")\n",
    "\n",
    "# 월별 기사 분포\n",
    "timeline_path = os.path.join(VIZ_DATA_DIR, 'monthly_articles.png')\n",
    "if os.path.exists(timeline_path):\n",
    "    from IPython.display import Image\n",
    "    display(Image(filename=timeline_path))\n",
    "else:\n",
    "    print(\"월별 기사 분포 이미지를 찾을 수 없습니다.\")\n",
    "\n",
    "# 소스 분포\n",
    "network_path = os.path.join(VIZ_DATA_DIR, 'source_distribution.png')\n",
    "if os.path.exists(network_path):\n",
    "    from IPython.display import Image\n",
    "    display(Image(filename=network_path))\n",
    "else:\n",
    "    print(\"소스분포 이미지를 찾을 수 없습니다.\")"
   ]
  },
  {
   "cell_type": "markdown",
   "metadata": {},
   "source": [
    "## 9. 요약 및 다음 단계\n",
    "\n",
    "- KDX 관련 뉴스 데이터를 수집, 전처리, 요약, 시각화하는 전체 파이프라인을 실행했습니다.\n",
    "- 총 수집된 기사 수: {len(articles_df)}개\n",
    "- 전처리 및 요약된 기사 수: {len(summary_df)}개\n",
    "- 주요 키워드: AI, 데이터, 거래소, 플랫폼, 비즈니스 등\n",
    "\n",
    "### 다음 단계\n",
    "1. 뉴스 소스 확장 (더 많은 언론사 포함)\n",
    "2. 감성 분석 추가 (기사의 긍정/부정 분석)\n",
    "3. 실시간 모니터링 시스템 구축\n",
    "4. 키워드 트렌드 분석 및 예측 모델 개발"
   ]
  },
  {
   "cell_type": "code",
   "execution_count": null,
   "metadata": {},
   "outputs": [],
   "source": [
    "# 파이프라인 실행 요약 정보 저장\n",
    "summary_info = {\n",
    "    \"execution_timestamp\": datetime.now().strftime(\"%Y-%m-%d %H:%M:%S\"),\n",
    "    \"articles_collected\": len(articles_df),\n",
    "    \"articles_processed\": len(processed_df),\n",
    "    \"articles_summarized\": len(summary_df),\n",
    "    \"output_files\": {\n",
    "        \"raw_data\": RAW_DATA_PATH,\n",
    "        \"processed_data\": PROCESSED_DATA_PATH,\n",
    "        \"summary_data\": SUMMARY_DATA_PATH,\n",
    "        \"visualizations\": RAW_DATA_DIR\n",
    "    }\n",
    "}\n",
    "\n",
    "# JSON 형태로 저장\n",
    "summary_path = os.path.join(RAW_DATA_DIR, 'pipeline_summary.json')\n",
    "with open(summary_path, 'w', encoding='utf-8') as f:\n",
    "    json.dump(summary_info, f, ensure_ascii=False, indent=4)\n",
    "\n",
    "print(f\"파이프라인 실행 요약 정보가 {summary_path}에 저장되었습니다.\")"
   ]
  }
 ],
 "metadata": {
  "kernelspec": {
   "display_name": "Python 3",
   "language": "python",
   "name": "python3"
  },
  "language_info": {
   "codemirror_mode": {
    "name": "ipython",
    "version": 3
   },
   "file_extension": ".py",
   "mimetype": "text/x-python",
   "name": "python",
   "nbconvert_exporter": "python",
   "pygments_lexer": "ipython3",
   "version": "3.9.13"
  }
 },
 "nbformat": 4,
 "nbformat_minor": 2
}
